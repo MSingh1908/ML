{
 "cells": [
  {
   "cell_type": "markdown",
   "id": "7b30414f",
   "metadata": {},
   "source": [
    "### Data Types"
   ]
  },
  {
   "cell_type": "code",
   "execution_count": 1,
   "id": "0e44bdc1",
   "metadata": {},
   "outputs": [
    {
     "data": {
      "text/plain": [
       "str"
      ]
     },
     "execution_count": 1,
     "metadata": {},
     "output_type": "execute_result"
    }
   ],
   "source": [
    "a=\"Mayank\"\n",
    "type(a)"
   ]
  },
  {
   "cell_type": "code",
   "execution_count": 2,
   "id": "28ba06b2",
   "metadata": {},
   "outputs": [
    {
     "data": {
      "text/plain": [
       "int"
      ]
     },
     "execution_count": 2,
     "metadata": {},
     "output_type": "execute_result"
    }
   ],
   "source": [
    "b=5\n",
    "type(b)"
   ]
  },
  {
   "cell_type": "code",
   "execution_count": 3,
   "id": "eee0b93e",
   "metadata": {},
   "outputs": [
    {
     "data": {
      "text/plain": [
       "float"
      ]
     },
     "execution_count": 3,
     "metadata": {},
     "output_type": "execute_result"
    }
   ],
   "source": [
    "c=121.1\n",
    "type(c)"
   ]
  },
  {
   "cell_type": "code",
   "execution_count": 4,
   "id": "f6de3279",
   "metadata": {},
   "outputs": [
    {
     "data": {
      "text/plain": [
       "str"
      ]
     },
     "execution_count": 4,
     "metadata": {},
     "output_type": "execute_result"
    }
   ],
   "source": [
    "d=\"true\"\n",
    "type(d)"
   ]
  },
  {
   "cell_type": "code",
   "execution_count": 6,
   "id": "aea95c3b",
   "metadata": {},
   "outputs": [
    {
     "data": {
      "text/plain": [
       "str"
      ]
     },
     "execution_count": 6,
     "metadata": {},
     "output_type": "execute_result"
    }
   ],
   "source": [
    "e=True\n",
    "type(d)"
   ]
  },
  {
   "cell_type": "code",
   "execution_count": 7,
   "id": "384b718c",
   "metadata": {},
   "outputs": [
    {
     "data": {
      "text/plain": [
       "complex"
      ]
     },
     "execution_count": 7,
     "metadata": {},
     "output_type": "execute_result"
    }
   ],
   "source": [
    "f= 2+3j\n",
    "type(f)"
   ]
  },
  {
   "cell_type": "markdown",
   "id": "b40d34b5",
   "metadata": {},
   "source": [
    "### Rules for naming the variable-"
   ]
  },
  {
   "cell_type": "markdown",
   "id": "0aeec5dc",
   "metadata": {},
   "source": [
    "##### Variable name should start with a number\n",
    "##### variable name does not allow spl. characters other than underscore\n",
    "##### Space is not allowed\n",
    "##### Variable name can start with A-Z,a-z,_\n",
    "##### Case Sensitive"
   ]
  },
  {
   "cell_type": "code",
   "execution_count": null,
   "id": "5da85d55",
   "metadata": {},
   "outputs": [],
   "source": []
  },
  {
   "cell_type": "markdown",
   "id": "843e59b6",
   "metadata": {},
   "source": [
    "# List"
   ]
  },
  {
   "cell_type": "markdown",
   "id": "2c4f9285",
   "metadata": {},
   "source": [
    "1. Allows heterogenous\n",
    "2. Index start from 0\n",
    "3. Mutable using index\n",
    "4. []"
   ]
  },
  {
   "cell_type": "code",
   "execution_count": null,
   "id": "4bf1ff5a",
   "metadata": {},
   "outputs": [],
   "source": []
  },
  {
   "cell_type": "markdown",
   "id": "73116a9f",
   "metadata": {},
   "source": [
    "# Tuple"
   ]
  },
  {
   "cell_type": "markdown",
   "id": "5ba0b46e",
   "metadata": {},
   "source": [
    "1. Allows heterogenous\n",
    "2. Index start from 0 and retrieve using index\n",
    "3. Cannot change the data once declared - immutable \n",
    "4. ()"
   ]
  },
  {
   "cell_type": "code",
   "execution_count": null,
   "id": "d59412a6",
   "metadata": {},
   "outputs": [],
   "source": []
  },
  {
   "cell_type": "markdown",
   "id": "4d0f51d9",
   "metadata": {},
   "source": [
    "# Set"
   ]
  },
  {
   "cell_type": "markdown",
   "id": "9eaad804",
   "metadata": {},
   "source": [
    "1. Add heterogenous\n",
    "2. Does not allow duplicates\n",
    "3. Cannot access using index\n",
    "4. Immutable using index but it's mutable\n",
    "5. Ordered first place"
   ]
  },
  {
   "cell_type": "code",
   "execution_count": null,
   "id": "b844df4a",
   "metadata": {},
   "outputs": [],
   "source": []
  },
  {
   "cell_type": "markdown",
   "id": "48f7392d",
   "metadata": {},
   "source": [
    "# Dictionary"
   ]
  },
  {
   "cell_type": "markdown",
   "id": "36470ece",
   "metadata": {},
   "source": [
    "1. Dictionary has key value pair datastructure\n",
    "2. Key is unique and values can be duplicated\n",
    "3. Can retrieve the value using key\n",
    "4. Can change the value using key\n",
    "5. Key is immutable"
   ]
  },
  {
   "cell_type": "code",
   "execution_count": null,
   "id": "58e02752",
   "metadata": {},
   "outputs": [],
   "source": []
  }
 ],
 "metadata": {
  "kernelspec": {
   "display_name": "Python 3 (ipykernel)",
   "language": "python",
   "name": "python3"
  },
  "language_info": {
   "codemirror_mode": {
    "name": "ipython",
    "version": 3
   },
   "file_extension": ".py",
   "mimetype": "text/x-python",
   "name": "python",
   "nbconvert_exporter": "python",
   "pygments_lexer": "ipython3",
   "version": "3.9.7"
  }
 },
 "nbformat": 4,
 "nbformat_minor": 5
}
